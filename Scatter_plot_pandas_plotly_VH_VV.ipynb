{
 "cells": [
  {
   "cell_type": "code",
   "execution_count": 2,
   "metadata": {},
   "outputs": [],
   "source": [
    "import pandas as pd\n",
    "import plotly.express as px\n",
    "\n",
    "data = pd.read_csv('C:/Users/jales/Desktop/Backscatter_VH_VV_scatter.csv', sep =';')"
   ]
  },
  {
   "cell_type": "code",
   "execution_count": 3,
   "metadata": {},
   "outputs": [
    {
     "data": {
      "text/html": [
       "<div>\n",
       "<style scoped>\n",
       "    .dataframe tbody tr th:only-of-type {\n",
       "        vertical-align: middle;\n",
       "    }\n",
       "\n",
       "    .dataframe tbody tr th {\n",
       "        vertical-align: top;\n",
       "    }\n",
       "\n",
       "    .dataframe thead th {\n",
       "        text-align: right;\n",
       "    }\n",
       "</style>\n",
       "<table border=\"1\" class=\"dataframe\">\n",
       "  <thead>\n",
       "    <tr style=\"text-align: right;\">\n",
       "      <th></th>\n",
       "      <th>VH</th>\n",
       "      <th>VV</th>\n",
       "    </tr>\n",
       "  </thead>\n",
       "  <tbody>\n",
       "    <tr>\n",
       "      <th>0</th>\n",
       "      <td>-20.4204</td>\n",
       "      <td>-15.7268</td>\n",
       "    </tr>\n",
       "    <tr>\n",
       "      <th>1</th>\n",
       "      <td>-19.9394</td>\n",
       "      <td>-15.6072</td>\n",
       "    </tr>\n",
       "    <tr>\n",
       "      <th>2</th>\n",
       "      <td>-20.2632</td>\n",
       "      <td>-15.7223</td>\n",
       "    </tr>\n",
       "    <tr>\n",
       "      <th>3</th>\n",
       "      <td>-20.4347</td>\n",
       "      <td>-15.7187</td>\n",
       "    </tr>\n",
       "    <tr>\n",
       "      <th>4</th>\n",
       "      <td>-20.0755</td>\n",
       "      <td>-14.9042</td>\n",
       "    </tr>\n",
       "  </tbody>\n",
       "</table>\n",
       "</div>"
      ],
      "text/plain": [
       "        VH       VV\n",
       "0 -20.4204 -15.7268\n",
       "1 -19.9394 -15.6072\n",
       "2 -20.2632 -15.7223\n",
       "3 -20.4347 -15.7187\n",
       "4 -20.0755 -14.9042"
      ]
     },
     "execution_count": 3,
     "metadata": {},
     "output_type": "execute_result"
    }
   ],
   "source": [
    "data.head()"
   ]
  },
  {
   "cell_type": "code",
   "execution_count": 52,
   "metadata": {},
   "outputs": [
    {
     "data": {
      "application/vnd.plotly.v1+json": {
       "config": {
        "plotlyServerURL": "https://plot.ly"
       },
       "data": [
        {
         "hovertemplate": "VH=%{x}<br>VV=%{y}<extra></extra>",
         "legendgroup": "",
         "marker": {
          "color": "rgba(239, 73, 88, .9)",
          "line": {
           "width": 1.5
          },
          "size": 9,
          "symbol": "circle"
         },
         "mode": "markers",
         "name": "",
         "orientation": "v",
         "showlegend": false,
         "type": "scatter",
         "x": [
          -20.4204,
          -19.9394,
          -20.2632,
          -20.4347,
          -20.0755,
          -20.2711,
          -20.1663,
          -20.2525,
          -20.0693,
          -19.9917,
          -20.1956,
          -20.218,
          -19.7273,
          -19.8275,
          -19.8857,
          -20.0343,
          -19.785,
          -20.1921,
          -19.9366,
          -20.0926,
          -20.0998,
          -19.8124,
          -19.7077,
          -19.8815,
          -19.9724,
          -19.9491,
          -19.9259,
          -19.8841,
          -20.3744,
          -20.1869,
          -19.9636,
          -20.1399,
          -19.5495,
          -20.3543,
          -20.0317,
          -20.3731,
          -20.4999,
          -19.9536,
          -20.1614,
          -20.1698,
          -20.238,
          -20.0463,
          -19.9929,
          -19.9924,
          -19.7577,
          -19.9126,
          -19.8115,
          -19.9379,
          -19.6571,
          -19.9819,
          -19.8654,
          -19.9035,
          -19.6843,
          -19.7532,
          -19.6417,
          -19.7701,
          -19.7302,
          -20.037,
          -19.8989,
          -19.7249,
          -19.9448,
          -20.3054,
          -19.9107,
          -20.2097,
          -20.46,
          -20.2708,
          -20.0845,
          -19.875
         ],
         "xaxis": "x",
         "y": [
          -15.7268,
          -15.6072,
          -15.7223,
          -15.7187,
          -14.9042,
          -16.5448,
          -16.3097,
          -15.5686,
          -15.5077,
          -16.0956,
          -15.6581,
          -15.3209,
          -15.1773,
          -14.6904,
          -15.8847,
          -15.6807,
          -14.8373,
          -14.0876,
          -15.251,
          -14.8467,
          -14.9174,
          -15.7326,
          -15.2343,
          -15.0256,
          -14.8816,
          -14.9461,
          -15.9005,
          -15.5239,
          -15.7535,
          -15.7321,
          -15.8639,
          -16.2541,
          -15.1034,
          -16.568,
          -15.9579,
          -14.7437,
          -16.6098,
          -15.0698,
          -15.7925,
          -14.9714,
          -15.1786,
          -15.6259,
          -14.8302,
          -14.7391,
          -15.0279,
          -15.0054,
          -14.1678,
          -15.446,
          -15.1202,
          -16.0264,
          -15.5404,
          -14.7421,
          -15.816,
          -15.1897,
          -15.338,
          -15.3162,
          -16.1163,
          -15.4135,
          -14.9587,
          -14.8997,
          -15.1535,
          -15.5817,
          -15.9623,
          -16.4601,
          -17.3413,
          -15.7117,
          -15.7816,
          -15.4744
         ],
         "yaxis": "y"
        },
        {
         "hovertemplate": "<b>OLS trendline</b><br>VV = 1.08373 * VH + 6.22722<br>R<sup>2</sup>=0.167456<br><br>VH=%{x}<br>VV=%{y} <b>(trend)</b><extra></extra>",
         "legendgroup": "",
         "line": {
          "color": "rgb(0, 120, 215)"
         },
         "marker": {
          "color": "rgba(239, 73, 88, .9)",
          "line": {
           "width": 1.5
          },
          "size": 9,
          "symbol": "circle"
         },
         "mode": "lines",
         "name": "",
         "showlegend": false,
         "type": "scatter",
         "x": [
          -20.4999,
          -20.46,
          -20.4347,
          -20.4204,
          -20.3744,
          -20.3731,
          -20.3543,
          -20.3054,
          -20.2711,
          -20.2708,
          -20.2632,
          -20.2525,
          -20.238,
          -20.218,
          -20.2097,
          -20.1956,
          -20.1921,
          -20.1869,
          -20.1698,
          -20.1663,
          -20.1614,
          -20.1399,
          -20.0998,
          -20.0926,
          -20.0845,
          -20.0755,
          -20.0693,
          -20.0463,
          -20.037,
          -20.0343,
          -20.0317,
          -19.9929,
          -19.9924,
          -19.9917,
          -19.9819,
          -19.9724,
          -19.9636,
          -19.9536,
          -19.9491,
          -19.9448,
          -19.9394,
          -19.9379,
          -19.9366,
          -19.9259,
          -19.9126,
          -19.9107,
          -19.9035,
          -19.8989,
          -19.8857,
          -19.8841,
          -19.8815,
          -19.875,
          -19.8654,
          -19.8275,
          -19.8124,
          -19.8115,
          -19.785,
          -19.7701,
          -19.7577,
          -19.7532,
          -19.7302,
          -19.7273,
          -19.7249,
          -19.7077,
          -19.6843,
          -19.6571,
          -19.6417,
          -19.5495
         ],
         "xaxis": "x",
         "y": [
          -15.989125241655252,
          -15.945884439959631,
          -15.91846608700476,
          -15.902968757073747,
          -15.853117206246711,
          -15.851708358071164,
          -15.831334245994025,
          -15.778339880006154,
          -15.74116796275904,
          -15.740842843949299,
          -15.73260650076918,
          -15.721010596555065,
          -15.705296520750888,
          -15.683621933434786,
          -15.674626979698608,
          -15.659346395640753,
          -15.655553342860436,
          -15.649917950158251,
          -15.63138617800298,
          -15.627593125222663,
          -15.622282851330219,
          -15.598982669965409,
          -15.55552512239662,
          -15.547722270962826,
          -15.538944063099802,
          -15.529190498807559,
          -15.522471376739563,
          -15.497545601326046,
          -15.487466918224058,
          -15.484540848936387,
          -15.481723152585293,
          -15.439674453192051,
          -15.43913258850915,
          -15.438373977953088,
          -15.427753430168195,
          -15.417458001193047,
          -15.407921182773961,
          -15.397083889115912,
          -15.392207106969789,
          -15.387547070696826,
          -15.381694932121476,
          -15.380069338072769,
          -15.378660489897221,
          -15.367064585683107,
          -15.352650985117904,
          -15.350591899322872,
          -15.342789047889077,
          -15.337803892806374,
          -15.323498665177745,
          -15.321764698192457,
          -15.318947001841362,
          -15.31190276096363,
          -15.301498959051901,
          -15.260425616087886,
          -15.244061302664228,
          -15.243085946235002,
          -15.214367118041167,
          -15.19821955049067,
          -15.184781306354687,
          -15.179904524208563,
          -15.154978748795045,
          -15.15183593363421,
          -15.14923498315628,
          -15.130594838064429,
          -15.10523557090459,
          -15.075758132154693,
          -15.059068699921294,
          -14.959148852394058
         ],
         "yaxis": "y"
        }
       ],
       "layout": {
        "legend": {
         "tracegroupgap": 0
        },
        "margin": {
         "t": 60
        },
        "paper_bgcolor": "rgb(243, 243, 243)",
        "plot_bgcolor": "rgb(234, 234, 242)",
        "showlegend": false,
        "template": {
         "data": {
          "bar": [
           {
            "error_x": {
             "color": "rgb(51,51,51)"
            },
            "error_y": {
             "color": "rgb(51,51,51)"
            },
            "marker": {
             "line": {
              "color": "rgb(237,237,237)",
              "width": 0.5
             }
            },
            "type": "bar"
           }
          ],
          "barpolar": [
           {
            "marker": {
             "line": {
              "color": "rgb(237,237,237)",
              "width": 0.5
             }
            },
            "type": "barpolar"
           }
          ],
          "carpet": [
           {
            "aaxis": {
             "endlinecolor": "rgb(51,51,51)",
             "gridcolor": "white",
             "linecolor": "white",
             "minorgridcolor": "white",
             "startlinecolor": "rgb(51,51,51)"
            },
            "baxis": {
             "endlinecolor": "rgb(51,51,51)",
             "gridcolor": "white",
             "linecolor": "white",
             "minorgridcolor": "white",
             "startlinecolor": "rgb(51,51,51)"
            },
            "type": "carpet"
           }
          ],
          "choropleth": [
           {
            "colorbar": {
             "outlinewidth": 0,
             "tickcolor": "rgb(237,237,237)",
             "ticklen": 6,
             "ticks": "inside"
            },
            "type": "choropleth"
           }
          ],
          "contour": [
           {
            "colorbar": {
             "outlinewidth": 0,
             "tickcolor": "rgb(237,237,237)",
             "ticklen": 6,
             "ticks": "inside"
            },
            "colorscale": [
             [
              0,
              "rgb(20,44,66)"
             ],
             [
              1,
              "rgb(90,179,244)"
             ]
            ],
            "type": "contour"
           }
          ],
          "contourcarpet": [
           {
            "colorbar": {
             "outlinewidth": 0,
             "tickcolor": "rgb(237,237,237)",
             "ticklen": 6,
             "ticks": "inside"
            },
            "type": "contourcarpet"
           }
          ],
          "heatmap": [
           {
            "colorbar": {
             "outlinewidth": 0,
             "tickcolor": "rgb(237,237,237)",
             "ticklen": 6,
             "ticks": "inside"
            },
            "colorscale": [
             [
              0,
              "rgb(20,44,66)"
             ],
             [
              1,
              "rgb(90,179,244)"
             ]
            ],
            "type": "heatmap"
           }
          ],
          "heatmapgl": [
           {
            "colorbar": {
             "outlinewidth": 0,
             "tickcolor": "rgb(237,237,237)",
             "ticklen": 6,
             "ticks": "inside"
            },
            "colorscale": [
             [
              0,
              "rgb(20,44,66)"
             ],
             [
              1,
              "rgb(90,179,244)"
             ]
            ],
            "type": "heatmapgl"
           }
          ],
          "histogram": [
           {
            "marker": {
             "colorbar": {
              "outlinewidth": 0,
              "tickcolor": "rgb(237,237,237)",
              "ticklen": 6,
              "ticks": "inside"
             }
            },
            "type": "histogram"
           }
          ],
          "histogram2d": [
           {
            "colorbar": {
             "outlinewidth": 0,
             "tickcolor": "rgb(237,237,237)",
             "ticklen": 6,
             "ticks": "inside"
            },
            "colorscale": [
             [
              0,
              "rgb(20,44,66)"
             ],
             [
              1,
              "rgb(90,179,244)"
             ]
            ],
            "type": "histogram2d"
           }
          ],
          "histogram2dcontour": [
           {
            "colorbar": {
             "outlinewidth": 0,
             "tickcolor": "rgb(237,237,237)",
             "ticklen": 6,
             "ticks": "inside"
            },
            "colorscale": [
             [
              0,
              "rgb(20,44,66)"
             ],
             [
              1,
              "rgb(90,179,244)"
             ]
            ],
            "type": "histogram2dcontour"
           }
          ],
          "mesh3d": [
           {
            "colorbar": {
             "outlinewidth": 0,
             "tickcolor": "rgb(237,237,237)",
             "ticklen": 6,
             "ticks": "inside"
            },
            "type": "mesh3d"
           }
          ],
          "parcoords": [
           {
            "line": {
             "colorbar": {
              "outlinewidth": 0,
              "tickcolor": "rgb(237,237,237)",
              "ticklen": 6,
              "ticks": "inside"
             }
            },
            "type": "parcoords"
           }
          ],
          "pie": [
           {
            "automargin": true,
            "type": "pie"
           }
          ],
          "scatter": [
           {
            "marker": {
             "colorbar": {
              "outlinewidth": 0,
              "tickcolor": "rgb(237,237,237)",
              "ticklen": 6,
              "ticks": "inside"
             }
            },
            "type": "scatter"
           }
          ],
          "scatter3d": [
           {
            "line": {
             "colorbar": {
              "outlinewidth": 0,
              "tickcolor": "rgb(237,237,237)",
              "ticklen": 6,
              "ticks": "inside"
             }
            },
            "marker": {
             "colorbar": {
              "outlinewidth": 0,
              "tickcolor": "rgb(237,237,237)",
              "ticklen": 6,
              "ticks": "inside"
             }
            },
            "type": "scatter3d"
           }
          ],
          "scattercarpet": [
           {
            "marker": {
             "colorbar": {
              "outlinewidth": 0,
              "tickcolor": "rgb(237,237,237)",
              "ticklen": 6,
              "ticks": "inside"
             }
            },
            "type": "scattercarpet"
           }
          ],
          "scattergeo": [
           {
            "marker": {
             "colorbar": {
              "outlinewidth": 0,
              "tickcolor": "rgb(237,237,237)",
              "ticklen": 6,
              "ticks": "inside"
             }
            },
            "type": "scattergeo"
           }
          ],
          "scattergl": [
           {
            "marker": {
             "colorbar": {
              "outlinewidth": 0,
              "tickcolor": "rgb(237,237,237)",
              "ticklen": 6,
              "ticks": "inside"
             }
            },
            "type": "scattergl"
           }
          ],
          "scattermapbox": [
           {
            "marker": {
             "colorbar": {
              "outlinewidth": 0,
              "tickcolor": "rgb(237,237,237)",
              "ticklen": 6,
              "ticks": "inside"
             }
            },
            "type": "scattermapbox"
           }
          ],
          "scatterpolar": [
           {
            "marker": {
             "colorbar": {
              "outlinewidth": 0,
              "tickcolor": "rgb(237,237,237)",
              "ticklen": 6,
              "ticks": "inside"
             }
            },
            "type": "scatterpolar"
           }
          ],
          "scatterpolargl": [
           {
            "marker": {
             "colorbar": {
              "outlinewidth": 0,
              "tickcolor": "rgb(237,237,237)",
              "ticklen": 6,
              "ticks": "inside"
             }
            },
            "type": "scatterpolargl"
           }
          ],
          "scatterternary": [
           {
            "marker": {
             "colorbar": {
              "outlinewidth": 0,
              "tickcolor": "rgb(237,237,237)",
              "ticklen": 6,
              "ticks": "inside"
             }
            },
            "type": "scatterternary"
           }
          ],
          "surface": [
           {
            "colorbar": {
             "outlinewidth": 0,
             "tickcolor": "rgb(237,237,237)",
             "ticklen": 6,
             "ticks": "inside"
            },
            "colorscale": [
             [
              0,
              "rgb(20,44,66)"
             ],
             [
              1,
              "rgb(90,179,244)"
             ]
            ],
            "type": "surface"
           }
          ],
          "table": [
           {
            "cells": {
             "fill": {
              "color": "rgb(237,237,237)"
             },
             "line": {
              "color": "white"
             }
            },
            "header": {
             "fill": {
              "color": "rgb(217,217,217)"
             },
             "line": {
              "color": "white"
             }
            },
            "type": "table"
           }
          ]
         },
         "layout": {
          "annotationdefaults": {
           "arrowhead": 0,
           "arrowwidth": 1
          },
          "coloraxis": {
           "colorbar": {
            "outlinewidth": 0,
            "tickcolor": "rgb(237,237,237)",
            "ticklen": 6,
            "ticks": "inside"
           }
          },
          "colorscale": {
           "sequential": [
            [
             0,
             "rgb(20,44,66)"
            ],
            [
             1,
             "rgb(90,179,244)"
            ]
           ],
           "sequentialminus": [
            [
             0,
             "rgb(20,44,66)"
            ],
            [
             1,
             "rgb(90,179,244)"
            ]
           ]
          },
          "colorway": [
           "#F8766D",
           "#A3A500",
           "#00BF7D",
           "#00B0F6",
           "#E76BF3"
          ],
          "font": {
           "color": "rgb(51,51,51)"
          },
          "geo": {
           "bgcolor": "white",
           "lakecolor": "white",
           "landcolor": "rgb(237,237,237)",
           "showlakes": true,
           "showland": true,
           "subunitcolor": "white"
          },
          "hoverlabel": {
           "align": "left"
          },
          "hovermode": "closest",
          "paper_bgcolor": "white",
          "plot_bgcolor": "rgb(237,237,237)",
          "polar": {
           "angularaxis": {
            "gridcolor": "white",
            "linecolor": "white",
            "showgrid": true,
            "tickcolor": "rgb(51,51,51)",
            "ticks": "outside"
           },
           "bgcolor": "rgb(237,237,237)",
           "radialaxis": {
            "gridcolor": "white",
            "linecolor": "white",
            "showgrid": true,
            "tickcolor": "rgb(51,51,51)",
            "ticks": "outside"
           }
          },
          "scene": {
           "xaxis": {
            "backgroundcolor": "rgb(237,237,237)",
            "gridcolor": "white",
            "gridwidth": 2,
            "linecolor": "white",
            "showbackground": true,
            "showgrid": true,
            "tickcolor": "rgb(51,51,51)",
            "ticks": "outside",
            "zerolinecolor": "white"
           },
           "yaxis": {
            "backgroundcolor": "rgb(237,237,237)",
            "gridcolor": "white",
            "gridwidth": 2,
            "linecolor": "white",
            "showbackground": true,
            "showgrid": true,
            "tickcolor": "rgb(51,51,51)",
            "ticks": "outside",
            "zerolinecolor": "white"
           },
           "zaxis": {
            "backgroundcolor": "rgb(237,237,237)",
            "gridcolor": "white",
            "gridwidth": 2,
            "linecolor": "white",
            "showbackground": true,
            "showgrid": true,
            "tickcolor": "rgb(51,51,51)",
            "ticks": "outside",
            "zerolinecolor": "white"
           }
          },
          "shapedefaults": {
           "fillcolor": "black",
           "line": {
            "width": 0
           },
           "opacity": 0.3
          },
          "ternary": {
           "aaxis": {
            "gridcolor": "white",
            "linecolor": "white",
            "showgrid": true,
            "tickcolor": "rgb(51,51,51)",
            "ticks": "outside"
           },
           "baxis": {
            "gridcolor": "white",
            "linecolor": "white",
            "showgrid": true,
            "tickcolor": "rgb(51,51,51)",
            "ticks": "outside"
           },
           "bgcolor": "rgb(237,237,237)",
           "caxis": {
            "gridcolor": "white",
            "linecolor": "white",
            "showgrid": true,
            "tickcolor": "rgb(51,51,51)",
            "ticks": "outside"
           }
          },
          "xaxis": {
           "automargin": true,
           "gridcolor": "white",
           "linecolor": "white",
           "showgrid": true,
           "tickcolor": "rgb(51,51,51)",
           "ticks": "outside",
           "title": {
            "standoff": 15
           },
           "zerolinecolor": "white"
          },
          "yaxis": {
           "automargin": true,
           "gridcolor": "white",
           "linecolor": "white",
           "showgrid": true,
           "tickcolor": "rgb(51,51,51)",
           "ticks": "outside",
           "title": {
            "standoff": 15
           },
           "zerolinecolor": "white"
          }
         }
        },
        "xaxis": {
         "anchor": "y",
         "domain": [
          0,
          1
         ],
         "dtick": 0.2,
         "gridcolor": "rgb(243, 243, 243)",
         "gridwidth": 1.5,
         "tickformat": ".1f",
         "ticklen": 5,
         "tickson": "boundaries",
         "title": {
          "text": "VH"
         }
        },
        "yaxis": {
         "anchor": "x",
         "domain": [
          0,
          1
         ],
         "dtick": 0.5,
         "gridcolor": "rgb(243, 243, 243)",
         "gridwidth": 1.5,
         "tickformat": ".1f",
         "ticklen": 5,
         "tickson": "boundaries",
         "title": {
          "text": "VV"
         }
        }
       }
      },
      "text/html": [
       "<div>\n",
       "        \n",
       "        \n",
       "            <div id=\"ab3e8760-1e9d-4ee8-b3c4-24ba7d1a4839\" class=\"plotly-graph-div\" style=\"height:525px; width:100%;\"></div>\n",
       "            <script type=\"text/javascript\">\n",
       "                require([\"plotly\"], function(Plotly) {\n",
       "                    window.PLOTLYENV=window.PLOTLYENV || {};\n",
       "                    \n",
       "                if (document.getElementById(\"ab3e8760-1e9d-4ee8-b3c4-24ba7d1a4839\")) {\n",
       "                    Plotly.newPlot(\n",
       "                        'ab3e8760-1e9d-4ee8-b3c4-24ba7d1a4839',\n",
       "                        [{\"hovertemplate\": \"VH=%{x}<br>VV=%{y}<extra></extra>\", \"legendgroup\": \"\", \"marker\": {\"color\": \"rgba(239, 73, 88, .9)\", \"line\": {\"width\": 1.5}, \"size\": 9, \"symbol\": \"circle\"}, \"mode\": \"markers\", \"name\": \"\", \"orientation\": \"v\", \"showlegend\": false, \"type\": \"scatter\", \"x\": [-20.4204, -19.9394, -20.2632, -20.4347, -20.0755, -20.2711, -20.1663, -20.2525, -20.0693, -19.9917, -20.1956, -20.218, -19.7273, -19.8275, -19.8857, -20.0343, -19.785, -20.1921, -19.9366, -20.0926, -20.0998, -19.8124, -19.7077, -19.8815, -19.9724, -19.9491, -19.9259, -19.8841, -20.3744, -20.1869, -19.9636, -20.1399, -19.5495, -20.3543, -20.0317, -20.3731, -20.4999, -19.9536, -20.1614, -20.1698, -20.238, -20.0463, -19.9929, -19.9924, -19.7577, -19.9126, -19.8115, -19.9379, -19.6571, -19.9819, -19.8654, -19.9035, -19.6843, -19.7532, -19.6417, -19.7701, -19.7302, -20.037, -19.8989, -19.7249, -19.9448, -20.3054, -19.9107, -20.2097, -20.46, -20.2708, -20.0845, -19.875], \"xaxis\": \"x\", \"y\": [-15.7268, -15.6072, -15.7223, -15.7187, -14.9042, -16.5448, -16.3097, -15.5686, -15.5077, -16.0956, -15.6581, -15.3209, -15.1773, -14.6904, -15.8847, -15.6807, -14.8373, -14.0876, -15.251, -14.8467, -14.9174, -15.7326, -15.2343, -15.0256, -14.8816, -14.9461, -15.9005, -15.5239, -15.7535, -15.7321, -15.8639, -16.2541, -15.1034, -16.568, -15.9579, -14.7437, -16.6098, -15.0698, -15.7925, -14.9714, -15.1786, -15.6259, -14.8302, -14.7391, -15.0279, -15.0054, -14.1678, -15.446, -15.1202, -16.0264, -15.5404, -14.7421, -15.816, -15.1897, -15.338, -15.3162, -16.1163, -15.4135, -14.9587, -14.8997, -15.1535, -15.5817, -15.9623, -16.4601, -17.3413, -15.7117, -15.7816, -15.4744], \"yaxis\": \"y\"}, {\"hovertemplate\": \"<b>OLS trendline</b><br>VV = 1.08373 * VH + 6.22722<br>R<sup>2</sup>=0.167456<br><br>VH=%{x}<br>VV=%{y} <b>(trend)</b><extra></extra>\", \"legendgroup\": \"\", \"line\": {\"color\": \"rgb(0, 120, 215)\"}, \"marker\": {\"color\": \"rgba(239, 73, 88, .9)\", \"line\": {\"width\": 1.5}, \"size\": 9, \"symbol\": \"circle\"}, \"mode\": \"lines\", \"name\": \"\", \"showlegend\": false, \"type\": \"scatter\", \"x\": [-20.4999, -20.46, -20.4347, -20.4204, -20.3744, -20.3731, -20.3543, -20.3054, -20.2711, -20.2708, -20.2632, -20.2525, -20.238, -20.218, -20.2097, -20.1956, -20.1921, -20.1869, -20.1698, -20.1663, -20.1614, -20.1399, -20.0998, -20.0926, -20.0845, -20.0755, -20.0693, -20.0463, -20.037, -20.0343, -20.0317, -19.9929, -19.9924, -19.9917, -19.9819, -19.9724, -19.9636, -19.9536, -19.9491, -19.9448, -19.9394, -19.9379, -19.9366, -19.9259, -19.9126, -19.9107, -19.9035, -19.8989, -19.8857, -19.8841, -19.8815, -19.875, -19.8654, -19.8275, -19.8124, -19.8115, -19.785, -19.7701, -19.7577, -19.7532, -19.7302, -19.7273, -19.7249, -19.7077, -19.6843, -19.6571, -19.6417, -19.5495], \"xaxis\": \"x\", \"y\": [-15.989125241655252, -15.945884439959631, -15.91846608700476, -15.902968757073747, -15.853117206246711, -15.851708358071164, -15.831334245994025, -15.778339880006154, -15.74116796275904, -15.740842843949299, -15.73260650076918, -15.721010596555065, -15.705296520750888, -15.683621933434786, -15.674626979698608, -15.659346395640753, -15.655553342860436, -15.649917950158251, -15.63138617800298, -15.627593125222663, -15.622282851330219, -15.598982669965409, -15.55552512239662, -15.547722270962826, -15.538944063099802, -15.529190498807559, -15.522471376739563, -15.497545601326046, -15.487466918224058, -15.484540848936387, -15.481723152585293, -15.439674453192051, -15.43913258850915, -15.438373977953088, -15.427753430168195, -15.417458001193047, -15.407921182773961, -15.397083889115912, -15.392207106969789, -15.387547070696826, -15.381694932121476, -15.380069338072769, -15.378660489897221, -15.367064585683107, -15.352650985117904, -15.350591899322872, -15.342789047889077, -15.337803892806374, -15.323498665177745, -15.321764698192457, -15.318947001841362, -15.31190276096363, -15.301498959051901, -15.260425616087886, -15.244061302664228, -15.243085946235002, -15.214367118041167, -15.19821955049067, -15.184781306354687, -15.179904524208563, -15.154978748795045, -15.15183593363421, -15.14923498315628, -15.130594838064429, -15.10523557090459, -15.075758132154693, -15.059068699921294, -14.959148852394058], \"yaxis\": \"y\"}],\n",
       "                        {\"legend\": {\"tracegroupgap\": 0}, \"margin\": {\"t\": 60}, \"paper_bgcolor\": \"rgb(243, 243, 243)\", \"plot_bgcolor\": \"rgb(234, 234, 242)\", \"showlegend\": false, \"template\": {\"data\": {\"bar\": [{\"error_x\": {\"color\": \"rgb(51,51,51)\"}, \"error_y\": {\"color\": \"rgb(51,51,51)\"}, \"marker\": {\"line\": {\"color\": \"rgb(237,237,237)\", \"width\": 0.5}}, \"type\": \"bar\"}], \"barpolar\": [{\"marker\": {\"line\": {\"color\": \"rgb(237,237,237)\", \"width\": 0.5}}, \"type\": \"barpolar\"}], \"carpet\": [{\"aaxis\": {\"endlinecolor\": \"rgb(51,51,51)\", \"gridcolor\": \"white\", \"linecolor\": \"white\", \"minorgridcolor\": \"white\", \"startlinecolor\": \"rgb(51,51,51)\"}, \"baxis\": {\"endlinecolor\": \"rgb(51,51,51)\", \"gridcolor\": \"white\", \"linecolor\": \"white\", \"minorgridcolor\": \"white\", \"startlinecolor\": \"rgb(51,51,51)\"}, \"type\": \"carpet\"}], \"choropleth\": [{\"colorbar\": {\"outlinewidth\": 0, \"tickcolor\": \"rgb(237,237,237)\", \"ticklen\": 6, \"ticks\": \"inside\"}, \"type\": \"choropleth\"}], \"contour\": [{\"colorbar\": {\"outlinewidth\": 0, \"tickcolor\": \"rgb(237,237,237)\", \"ticklen\": 6, \"ticks\": \"inside\"}, \"colorscale\": [[0, \"rgb(20,44,66)\"], [1, \"rgb(90,179,244)\"]], \"type\": \"contour\"}], \"contourcarpet\": [{\"colorbar\": {\"outlinewidth\": 0, \"tickcolor\": \"rgb(237,237,237)\", \"ticklen\": 6, \"ticks\": \"inside\"}, \"type\": \"contourcarpet\"}], \"heatmap\": [{\"colorbar\": {\"outlinewidth\": 0, \"tickcolor\": \"rgb(237,237,237)\", \"ticklen\": 6, \"ticks\": \"inside\"}, \"colorscale\": [[0, \"rgb(20,44,66)\"], [1, \"rgb(90,179,244)\"]], \"type\": \"heatmap\"}], \"heatmapgl\": [{\"colorbar\": {\"outlinewidth\": 0, \"tickcolor\": \"rgb(237,237,237)\", \"ticklen\": 6, \"ticks\": \"inside\"}, \"colorscale\": [[0, \"rgb(20,44,66)\"], [1, \"rgb(90,179,244)\"]], \"type\": \"heatmapgl\"}], \"histogram\": [{\"marker\": {\"colorbar\": {\"outlinewidth\": 0, \"tickcolor\": \"rgb(237,237,237)\", \"ticklen\": 6, \"ticks\": \"inside\"}}, \"type\": \"histogram\"}], \"histogram2d\": [{\"colorbar\": {\"outlinewidth\": 0, \"tickcolor\": \"rgb(237,237,237)\", \"ticklen\": 6, \"ticks\": \"inside\"}, \"colorscale\": [[0, \"rgb(20,44,66)\"], [1, \"rgb(90,179,244)\"]], \"type\": \"histogram2d\"}], \"histogram2dcontour\": [{\"colorbar\": {\"outlinewidth\": 0, \"tickcolor\": \"rgb(237,237,237)\", \"ticklen\": 6, \"ticks\": \"inside\"}, \"colorscale\": [[0, \"rgb(20,44,66)\"], [1, \"rgb(90,179,244)\"]], \"type\": \"histogram2dcontour\"}], \"mesh3d\": [{\"colorbar\": {\"outlinewidth\": 0, \"tickcolor\": \"rgb(237,237,237)\", \"ticklen\": 6, \"ticks\": \"inside\"}, \"type\": \"mesh3d\"}], \"parcoords\": [{\"line\": {\"colorbar\": {\"outlinewidth\": 0, \"tickcolor\": \"rgb(237,237,237)\", \"ticklen\": 6, \"ticks\": \"inside\"}}, \"type\": \"parcoords\"}], \"pie\": [{\"automargin\": true, \"type\": \"pie\"}], \"scatter\": [{\"marker\": {\"colorbar\": {\"outlinewidth\": 0, \"tickcolor\": \"rgb(237,237,237)\", \"ticklen\": 6, \"ticks\": \"inside\"}}, \"type\": \"scatter\"}], \"scatter3d\": [{\"line\": {\"colorbar\": {\"outlinewidth\": 0, \"tickcolor\": \"rgb(237,237,237)\", \"ticklen\": 6, \"ticks\": \"inside\"}}, \"marker\": {\"colorbar\": {\"outlinewidth\": 0, \"tickcolor\": \"rgb(237,237,237)\", \"ticklen\": 6, \"ticks\": \"inside\"}}, \"type\": \"scatter3d\"}], \"scattercarpet\": [{\"marker\": {\"colorbar\": {\"outlinewidth\": 0, \"tickcolor\": \"rgb(237,237,237)\", \"ticklen\": 6, \"ticks\": \"inside\"}}, \"type\": \"scattercarpet\"}], \"scattergeo\": [{\"marker\": {\"colorbar\": {\"outlinewidth\": 0, \"tickcolor\": \"rgb(237,237,237)\", \"ticklen\": 6, \"ticks\": \"inside\"}}, \"type\": \"scattergeo\"}], \"scattergl\": [{\"marker\": {\"colorbar\": {\"outlinewidth\": 0, \"tickcolor\": \"rgb(237,237,237)\", \"ticklen\": 6, \"ticks\": \"inside\"}}, \"type\": \"scattergl\"}], \"scattermapbox\": [{\"marker\": {\"colorbar\": {\"outlinewidth\": 0, \"tickcolor\": \"rgb(237,237,237)\", \"ticklen\": 6, \"ticks\": \"inside\"}}, \"type\": \"scattermapbox\"}], \"scatterpolar\": [{\"marker\": {\"colorbar\": {\"outlinewidth\": 0, \"tickcolor\": \"rgb(237,237,237)\", \"ticklen\": 6, \"ticks\": \"inside\"}}, \"type\": \"scatterpolar\"}], \"scatterpolargl\": [{\"marker\": {\"colorbar\": {\"outlinewidth\": 0, \"tickcolor\": \"rgb(237,237,237)\", \"ticklen\": 6, \"ticks\": \"inside\"}}, \"type\": \"scatterpolargl\"}], \"scatterternary\": [{\"marker\": {\"colorbar\": {\"outlinewidth\": 0, \"tickcolor\": \"rgb(237,237,237)\", \"ticklen\": 6, \"ticks\": \"inside\"}}, \"type\": \"scatterternary\"}], \"surface\": [{\"colorbar\": {\"outlinewidth\": 0, \"tickcolor\": \"rgb(237,237,237)\", \"ticklen\": 6, \"ticks\": \"inside\"}, \"colorscale\": [[0, \"rgb(20,44,66)\"], [1, \"rgb(90,179,244)\"]], \"type\": \"surface\"}], \"table\": [{\"cells\": {\"fill\": {\"color\": \"rgb(237,237,237)\"}, \"line\": {\"color\": \"white\"}}, \"header\": {\"fill\": {\"color\": \"rgb(217,217,217)\"}, \"line\": {\"color\": \"white\"}}, \"type\": \"table\"}]}, \"layout\": {\"annotationdefaults\": {\"arrowhead\": 0, \"arrowwidth\": 1}, \"coloraxis\": {\"colorbar\": {\"outlinewidth\": 0, \"tickcolor\": \"rgb(237,237,237)\", \"ticklen\": 6, \"ticks\": \"inside\"}}, \"colorscale\": {\"sequential\": [[0, \"rgb(20,44,66)\"], [1, \"rgb(90,179,244)\"]], \"sequentialminus\": [[0, \"rgb(20,44,66)\"], [1, \"rgb(90,179,244)\"]]}, \"colorway\": [\"#F8766D\", \"#A3A500\", \"#00BF7D\", \"#00B0F6\", \"#E76BF3\"], \"font\": {\"color\": \"rgb(51,51,51)\"}, \"geo\": {\"bgcolor\": \"white\", \"lakecolor\": \"white\", \"landcolor\": \"rgb(237,237,237)\", \"showlakes\": true, \"showland\": true, \"subunitcolor\": \"white\"}, \"hoverlabel\": {\"align\": \"left\"}, \"hovermode\": \"closest\", \"paper_bgcolor\": \"white\", \"plot_bgcolor\": \"rgb(237,237,237)\", \"polar\": {\"angularaxis\": {\"gridcolor\": \"white\", \"linecolor\": \"white\", \"showgrid\": true, \"tickcolor\": \"rgb(51,51,51)\", \"ticks\": \"outside\"}, \"bgcolor\": \"rgb(237,237,237)\", \"radialaxis\": {\"gridcolor\": \"white\", \"linecolor\": \"white\", \"showgrid\": true, \"tickcolor\": \"rgb(51,51,51)\", \"ticks\": \"outside\"}}, \"scene\": {\"xaxis\": {\"backgroundcolor\": \"rgb(237,237,237)\", \"gridcolor\": \"white\", \"gridwidth\": 2, \"linecolor\": \"white\", \"showbackground\": true, \"showgrid\": true, \"tickcolor\": \"rgb(51,51,51)\", \"ticks\": \"outside\", \"zerolinecolor\": \"white\"}, \"yaxis\": {\"backgroundcolor\": \"rgb(237,237,237)\", \"gridcolor\": \"white\", \"gridwidth\": 2, \"linecolor\": \"white\", \"showbackground\": true, \"showgrid\": true, \"tickcolor\": \"rgb(51,51,51)\", \"ticks\": \"outside\", \"zerolinecolor\": \"white\"}, \"zaxis\": {\"backgroundcolor\": \"rgb(237,237,237)\", \"gridcolor\": \"white\", \"gridwidth\": 2, \"linecolor\": \"white\", \"showbackground\": true, \"showgrid\": true, \"tickcolor\": \"rgb(51,51,51)\", \"ticks\": \"outside\", \"zerolinecolor\": \"white\"}}, \"shapedefaults\": {\"fillcolor\": \"black\", \"line\": {\"width\": 0}, \"opacity\": 0.3}, \"ternary\": {\"aaxis\": {\"gridcolor\": \"white\", \"linecolor\": \"white\", \"showgrid\": true, \"tickcolor\": \"rgb(51,51,51)\", \"ticks\": \"outside\"}, \"baxis\": {\"gridcolor\": \"white\", \"linecolor\": \"white\", \"showgrid\": true, \"tickcolor\": \"rgb(51,51,51)\", \"ticks\": \"outside\"}, \"bgcolor\": \"rgb(237,237,237)\", \"caxis\": {\"gridcolor\": \"white\", \"linecolor\": \"white\", \"showgrid\": true, \"tickcolor\": \"rgb(51,51,51)\", \"ticks\": \"outside\"}}, \"xaxis\": {\"automargin\": true, \"gridcolor\": \"white\", \"linecolor\": \"white\", \"showgrid\": true, \"tickcolor\": \"rgb(51,51,51)\", \"ticks\": \"outside\", \"title\": {\"standoff\": 15}, \"zerolinecolor\": \"white\"}, \"yaxis\": {\"automargin\": true, \"gridcolor\": \"white\", \"linecolor\": \"white\", \"showgrid\": true, \"tickcolor\": \"rgb(51,51,51)\", \"ticks\": \"outside\", \"title\": {\"standoff\": 15}, \"zerolinecolor\": \"white\"}}}, \"xaxis\": {\"anchor\": \"y\", \"domain\": [0.0, 1.0], \"dtick\": 0.2, \"gridcolor\": \"rgb(243, 243, 243)\", \"gridwidth\": 1.5, \"tickformat\": \".1f\", \"ticklen\": 5, \"tickson\": \"boundaries\", \"title\": {\"text\": \"VH\"}}, \"yaxis\": {\"anchor\": \"x\", \"domain\": [0.0, 1.0], \"dtick\": 0.5, \"gridcolor\": \"rgb(243, 243, 243)\", \"gridwidth\": 1.5, \"tickformat\": \".1f\", \"ticklen\": 5, \"tickson\": \"boundaries\", \"title\": {\"text\": \"VV\"}}},\n",
       "                        {\"responsive\": true}\n",
       "                    ).then(function(){\n",
       "                            \n",
       "var gd = document.getElementById('ab3e8760-1e9d-4ee8-b3c4-24ba7d1a4839');\n",
       "var x = new MutationObserver(function (mutations, observer) {{\n",
       "        var display = window.getComputedStyle(gd).display;\n",
       "        if (!display || display === 'none') {{\n",
       "            console.log([gd, 'removed!']);\n",
       "            Plotly.purge(gd);\n",
       "            observer.disconnect();\n",
       "        }}\n",
       "}});\n",
       "\n",
       "// Listen for the removal of the full notebook cells\n",
       "var notebookContainer = gd.closest('#notebook-container');\n",
       "if (notebookContainer) {{\n",
       "    x.observe(notebookContainer, {childList: true});\n",
       "}}\n",
       "\n",
       "// Listen for the clearing of the current output cell\n",
       "var outputEl = gd.closest('.output');\n",
       "if (outputEl) {{\n",
       "    x.observe(outputEl, {childList: true});\n",
       "}}\n",
       "\n",
       "                        })\n",
       "                };\n",
       "                });\n",
       "            </script>\n",
       "        </div>"
      ]
     },
     "metadata": {},
     "output_type": "display_data"
    }
   ],
   "source": [
    "# Geração do gráfico\n",
    "fig = px.scatter(data, x='VH', y='VV', trendline='ols', trendline_color_override='rgb(0, 120, 215)',\n",
    "                template='ggplot2', render_mode='svg')\n",
    "# Edição do gráfico\n",
    "fig.update_layout(\n",
    "    yaxis=dict( #Edição do eixo y\n",
    "        dtick=0.5, #Espaçamento dos ticks\n",
    "        tickson=\"boundaries\", #Onde vão os ticks\n",
    "        ticklen=5, #Tamanho do tick\n",
    "        gridcolor='rgb(243, 243, 243)', #Cor do grid\n",
    "        gridwidth=1.5, #Largura do grid\n",
    "        tickformat=\".1f\" #Número de casas decimais/precisão\n",
    "    ),\n",
    "    xaxis=dict( #Edição do eixo y\n",
    "        dtick=0.2, #Espaçamento dos ticks\n",
    "        tickson=\"boundaries\", #Onde vão os ticks\n",
    "        ticklen=5, #Tamanho do tick\n",
    "        gridcolor='rgb(243, 243, 243)', #Cor do grid\n",
    "        gridwidth=1.5, #Largura do grid\n",
    "        tickformat=\".1f\"), #Número de casas decimais/precisão\n",
    "    paper_bgcolor='rgb(243, 243, 243)', #Cor do papel\n",
    "    plot_bgcolor='rgb(234, 234, 242)', #Cor do backgound do plot\n",
    "    showlegend=False) #Mostrar legenda (caso tenha)\n",
    "\n",
    "# Edição dos pontos no gráfico\n",
    "fig.update_traces(marker_size=9, marker_color='rgba(239, 73, 88, .9)', marker_line_width=1.5)\n",
    "\n",
    "fig.show()"
   ]
  },
  {
   "cell_type": "code",
   "execution_count": 30,
   "metadata": {},
   "outputs": [
    {
     "data": {
      "text/html": [
       "<table class=\"simpletable\">\n",
       "<caption>OLS Regression Results</caption>\n",
       "<tr>\n",
       "  <th>Dep. Variable:</th>            <td>y</td>        <th>  R-squared:         </th> <td>   0.167</td>\n",
       "</tr>\n",
       "<tr>\n",
       "  <th>Model:</th>                   <td>OLS</td>       <th>  Adj. R-squared:    </th> <td>   0.155</td>\n",
       "</tr>\n",
       "<tr>\n",
       "  <th>Method:</th>             <td>Least Squares</td>  <th>  F-statistic:       </th> <td>   13.28</td>\n",
       "</tr>\n",
       "<tr>\n",
       "  <th>Date:</th>             <td>Thu, 23 Jul 2020</td> <th>  Prob (F-statistic):</th> <td>0.000530</td>\n",
       "</tr>\n",
       "<tr>\n",
       "  <th>Time:</th>                 <td>11:43:35</td>     <th>  Log-Likelihood:    </th> <td> -53.617</td>\n",
       "</tr>\n",
       "<tr>\n",
       "  <th>No. Observations:</th>      <td>    68</td>      <th>  AIC:               </th> <td>   111.2</td>\n",
       "</tr>\n",
       "<tr>\n",
       "  <th>Df Residuals:</th>          <td>    66</td>      <th>  BIC:               </th> <td>   115.7</td>\n",
       "</tr>\n",
       "<tr>\n",
       "  <th>Df Model:</th>              <td>     1</td>      <th>                     </th>     <td> </td>   \n",
       "</tr>\n",
       "<tr>\n",
       "  <th>Covariance Type:</th>      <td>nonrobust</td>    <th>                     </th>     <td> </td>   \n",
       "</tr>\n",
       "</table>\n",
       "<table class=\"simpletable\">\n",
       "<tr>\n",
       "    <td></td>       <th>coef</th>     <th>std err</th>      <th>t</th>      <th>P>|t|</th>  <th>[0.025</th>    <th>0.975]</th>  \n",
       "</tr>\n",
       "<tr>\n",
       "  <th>const</th> <td>    6.2272</td> <td>    5.954</td> <td>    1.046</td> <td> 0.299</td> <td>   -5.661</td> <td>   18.115</td>\n",
       "</tr>\n",
       "<tr>\n",
       "  <th>x1</th>    <td>    1.0837</td> <td>    0.297</td> <td>    3.643</td> <td> 0.001</td> <td>    0.490</td> <td>    1.678</td>\n",
       "</tr>\n",
       "</table>\n",
       "<table class=\"simpletable\">\n",
       "<tr>\n",
       "  <th>Omnibus:</th>       <td> 1.038</td> <th>  Durbin-Watson:     </th> <td>   2.257</td>\n",
       "</tr>\n",
       "<tr>\n",
       "  <th>Prob(Omnibus):</th> <td> 0.595</td> <th>  Jarque-Bera (JB):  </th> <td>   0.494</td>\n",
       "</tr>\n",
       "<tr>\n",
       "  <th>Skew:</th>          <td> 0.156</td> <th>  Prob(JB):          </th> <td>   0.781</td>\n",
       "</tr>\n",
       "<tr>\n",
       "  <th>Kurtosis:</th>      <td> 3.279</td> <th>  Cond. No.          </th> <td>1.82e+03</td>\n",
       "</tr>\n",
       "</table><br/><br/>Warnings:<br/>[1] Standard Errors assume that the covariance matrix of the errors is correctly specified.<br/>[2] The condition number is large, 1.82e+03. This might indicate that there are<br/>strong multicollinearity or other numerical problems."
      ],
      "text/plain": [
       "<class 'statsmodels.iolib.summary.Summary'>\n",
       "\"\"\"\n",
       "                            OLS Regression Results                            \n",
       "==============================================================================\n",
       "Dep. Variable:                      y   R-squared:                       0.167\n",
       "Model:                            OLS   Adj. R-squared:                  0.155\n",
       "Method:                 Least Squares   F-statistic:                     13.28\n",
       "Date:                Thu, 23 Jul 2020   Prob (F-statistic):           0.000530\n",
       "Time:                        11:43:35   Log-Likelihood:                -53.617\n",
       "No. Observations:                  68   AIC:                             111.2\n",
       "Df Residuals:                      66   BIC:                             115.7\n",
       "Df Model:                           1                                         \n",
       "Covariance Type:            nonrobust                                         \n",
       "==============================================================================\n",
       "                 coef    std err          t      P>|t|      [0.025      0.975]\n",
       "------------------------------------------------------------------------------\n",
       "const          6.2272      5.954      1.046      0.299      -5.661      18.115\n",
       "x1             1.0837      0.297      3.643      0.001       0.490       1.678\n",
       "==============================================================================\n",
       "Omnibus:                        1.038   Durbin-Watson:                   2.257\n",
       "Prob(Omnibus):                  0.595   Jarque-Bera (JB):                0.494\n",
       "Skew:                           0.156   Prob(JB):                        0.781\n",
       "Kurtosis:                       3.279   Cond. No.                     1.82e+03\n",
       "==============================================================================\n",
       "\n",
       "Warnings:\n",
       "[1] Standard Errors assume that the covariance matrix of the errors is correctly specified.\n",
       "[2] The condition number is large, 1.82e+03. This might indicate that there are\n",
       "strong multicollinearity or other numerical problems.\n",
       "\"\"\""
      ]
     },
     "execution_count": 30,
     "metadata": {},
     "output_type": "execute_result"
    }
   ],
   "source": [
    "results = px.get_trendline_results(fig)\n",
    "results.px_fit_results.iloc[0].summary()"
   ]
  },
  {
   "cell_type": "code",
   "execution_count": null,
   "metadata": {},
   "outputs": [],
   "source": []
  }
 ],
 "metadata": {
  "kernelspec": {
   "display_name": "Python 3",
   "language": "python",
   "name": "python3"
  },
  "language_info": {
   "codemirror_mode": {
    "name": "ipython",
    "version": 3
   },
   "file_extension": ".py",
   "mimetype": "text/x-python",
   "name": "python",
   "nbconvert_exporter": "python",
   "pygments_lexer": "ipython3",
   "version": "3.7.6"
  }
 },
 "nbformat": 4,
 "nbformat_minor": 4
}
